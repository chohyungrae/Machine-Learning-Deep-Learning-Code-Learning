{
  "nbformat": 4,
  "nbformat_minor": 0,
  "metadata": {
    "kernelspec": {
      "display_name": "Python 3",
      "language": "python",
      "name": "python3"
    },
    "language_info": {
      "codemirror_mode": {
        "name": "ipython",
        "version": 3
      },
      "file_extension": ".py",
      "mimetype": "text/x-python",
      "name": "python",
      "nbconvert_exporter": "python",
      "pygments_lexer": "ipython3",
      "version": "3.6.7"
    },
    "colab": {
      "name": "reshape_sample.ipynb",
      "provenance": [],
      "include_colab_link": true
    }
  },
  "cells": [
    {
      "cell_type": "markdown",
      "metadata": {
        "id": "view-in-github",
        "colab_type": "text"
      },
      "source": [
        "<a href=\"https://colab.research.google.com/github/chohyungrae/Machine-Learning-Deep-Learning-Code-Learning/blob/master/reshape_sample.ipynb\" target=\"_parent\"><img src=\"https://colab.research.google.com/assets/colab-badge.svg\" alt=\"Open In Colab\"/></a>"
      ]
    },
    {
      "cell_type": "code",
      "metadata": {
        "id": "b_VQixkqijb3",
        "colab_type": "code",
        "colab": {}
      },
      "source": [
        "import numpy as np"
      ],
      "execution_count": null,
      "outputs": []
    },
    {
      "cell_type": "code",
      "metadata": {
        "id": "4fdHnFg1ijb9",
        "colab_type": "code",
        "colab": {},
        "outputId": "0f80b77e-2056-4bd5-a8d9-85fd2f6e8834"
      },
      "source": [
        "X = np.linspace(1.0, 100.0, num=100)\n",
        "X.shape"
      ],
      "execution_count": null,
      "outputs": [
        {
          "output_type": "execute_result",
          "data": {
            "text/plain": [
              "(100,)"
            ]
          },
          "metadata": {
            "tags": []
          },
          "execution_count": 2
        }
      ]
    },
    {
      "cell_type": "code",
      "metadata": {
        "id": "Tmiq-XaTijcI",
        "colab_type": "code",
        "colab": {}
      },
      "source": [
        "# reshape\n",
        "# Returns an array containing the same data with a new shape"
      ],
      "execution_count": null,
      "outputs": []
    },
    {
      "cell_type": "code",
      "metadata": {
        "id": "hDYKK837ijcN",
        "colab_type": "code",
        "colab": {}
      },
      "source": [
        "# 2차원 4x25 변환\n",
        "X_4_25 = X.reshape(4, 25, order='C')"
      ],
      "execution_count": null,
      "outputs": []
    },
    {
      "cell_type": "code",
      "metadata": {
        "id": "1qX19lH2ijcZ",
        "colab_type": "code",
        "colab": {}
      },
      "source": [
        "# 3차원 4x5x5 변환\n",
        "X_4_5_5 = X_4_25.reshape(4, 5, 5, order='C')"
      ],
      "execution_count": null,
      "outputs": []
    },
    {
      "cell_type": "code",
      "metadata": {
        "id": "Pbi1mtFoijcf",
        "colab_type": "code",
        "colab": {}
      },
      "source": [
        "# 2차원 4x25 변환\n",
        "X_4_25_prime = X_4_5_5.reshape(4, 25, order='C')"
      ],
      "execution_count": null,
      "outputs": []
    },
    {
      "cell_type": "code",
      "metadata": {
        "id": "7IcflvjPijcn",
        "colab_type": "code",
        "colab": {}
      },
      "source": [
        "# 3차원 4x5x5 변환\n",
        "X_4_5_5_prime = X_4_25_prime.reshape(4, 5, 5, order='C')"
      ],
      "execution_count": null,
      "outputs": []
    },
    {
      "cell_type": "code",
      "metadata": {
        "id": "5e6R8K32ijcx",
        "colab_type": "code",
        "colab": {}
      },
      "source": [
        "# 1차원 100 변환\n",
        "X_prime = X_4_5_5_prime.reshape(100, order='C')"
      ],
      "execution_count": null,
      "outputs": []
    },
    {
      "cell_type": "code",
      "metadata": {
        "id": "OV6vts9Kijc1",
        "colab_type": "code",
        "colab": {},
        "outputId": "0ba574d9-e0bf-47f7-be8b-0a74d026f469"
      },
      "source": [
        "np.array_equal(X_4_25, X_4_25_prime)"
      ],
      "execution_count": null,
      "outputs": [
        {
          "output_type": "execute_result",
          "data": {
            "text/plain": [
              "True"
            ]
          },
          "metadata": {
            "tags": []
          },
          "execution_count": 9
        }
      ]
    },
    {
      "cell_type": "code",
      "metadata": {
        "id": "QSGzyNyAijc4",
        "colab_type": "code",
        "colab": {},
        "outputId": "369a09b5-ebaf-4234-9745-31652fd303ef"
      },
      "source": [
        "np.array_equal(X_4_5_5, X_4_5_5_prime)"
      ],
      "execution_count": null,
      "outputs": [
        {
          "output_type": "execute_result",
          "data": {
            "text/plain": [
              "True"
            ]
          },
          "metadata": {
            "tags": []
          },
          "execution_count": 10
        }
      ]
    },
    {
      "cell_type": "code",
      "metadata": {
        "id": "XfYIRhQ9ijc7",
        "colab_type": "code",
        "colab": {},
        "outputId": "614e0c64-db87-4f7f-d0ec-7593e28b6beb"
      },
      "source": [
        "np.array_equal(X, X_prime)"
      ],
      "execution_count": null,
      "outputs": [
        {
          "output_type": "execute_result",
          "data": {
            "text/plain": [
              "True"
            ]
          },
          "metadata": {
            "tags": []
          },
          "execution_count": 11
        }
      ]
    },
    {
      "cell_type": "code",
      "metadata": {
        "id": "Xvi0jq12ijdC",
        "colab_type": "code",
        "colab": {}
      },
      "source": [
        ""
      ],
      "execution_count": null,
      "outputs": []
    }
  ]
}