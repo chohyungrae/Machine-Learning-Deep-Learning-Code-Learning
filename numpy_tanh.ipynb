{
  "nbformat": 4,
  "nbformat_minor": 0,
  "metadata": {
    "colab": {
      "name": "numpy.tanh.ipynb",
      "provenance": [],
      "authorship_tag": "ABX9TyM31gdl1Bx8jZCDYrsdm1J8",
      "include_colab_link": true
    },
    "kernelspec": {
      "name": "python3",
      "display_name": "Python 3"
    }
  },
  "cells": [
    {
      "cell_type": "markdown",
      "metadata": {
        "id": "view-in-github",
        "colab_type": "text"
      },
      "source": [
        "<a href=\"https://colab.research.google.com/github/chohyungrae/Machine-Learning-Deep-Learning-Code-Learning/blob/master/numpy_tanh.ipynb\" target=\"_parent\"><img src=\"https://colab.research.google.com/assets/colab-badge.svg\" alt=\"Open In Colab\"/></a>"
      ]
    },
    {
      "cell_type": "markdown",
      "metadata": {
        "id": "748BXEH9OCXS",
        "colab_type": "text"
      },
      "source": [
        "### **numpy.tanh 함수**\n",
        "\n",
        "- numpy.tanh 함수는 하이퍼볼릭 탄젠트 값 (hyperbolic tangent)을 반환\n",
        "\n",
        "- tanh(x) 함수는 (ex - e-x) / (ex + e-x) = (np.exp(x) - np.exp(-x)) / (np.exp(x) + np.exp(-x)) = np.sinh(x) / np.cosh(x) 와 동일\n",
        "- 참조사이트: https://codetorial.net/numpy/functions/numpy_tanh.html"
      ]
    },
    {
      "cell_type": "code",
      "metadata": {
        "id": "W8KhhC5ROIPc",
        "colab_type": "code",
        "colab": {
          "base_uri": "https://localhost:8080/",
          "height": 70
        },
        "outputId": "6d79fcac-71cf-4e70-a3fc-801ee177f0b9"
      },
      "source": [
        "#입력한 값과 어레이에 대해 tanh(x) 값을 반환\n",
        "import numpy as np\n",
        "\n",
        "a = np.tanh(0)\n",
        "b = np.tanh(1)\n",
        "c = np.tanh([0, 1])\n",
        "\n",
        "print(a)\n",
        "print(b)\n",
        "print(c)"
      ],
      "execution_count": null,
      "outputs": [
        {
          "output_type": "stream",
          "text": [
            "0.0\n",
            "0.7615941559557649\n",
            "[0.         0.76159416]\n"
          ],
          "name": "stdout"
        }
      ]
    },
    {
      "cell_type": "code",
      "metadata": {
        "id": "k5O0H1EEOkfn",
        "colab_type": "code",
        "colab": {
          "base_uri": "https://localhost:8080/",
          "height": 279
        },
        "outputId": "fab5fe44-8858-4eed-e266-2202059c7367"
      },
      "source": [
        "#NumPy와 Matplotlib을 이용해서 -4에서 4의 범위에서 \n",
        "#hyperbolic tangent 함수를 그래프로 나타냅니다.\n",
        "import numpy as np\n",
        "import matplotlib.pylab as plt\n",
        "\n",
        "# x = np.linspace(-np.pi, np.pi, 201)\n",
        "x = np.linspace(-4, 4, 1000)\n",
        "plt.plot(x, np.tanh(x))\n",
        "plt.xlabel('x')\n",
        "plt.ylabel('tanh(x)')\n",
        "plt.axis('tight')\n",
        "plt.show()"
      ],
      "execution_count": null,
      "outputs": [
        {
          "output_type": "display_data",
          "data": {
            "image/png": "[encoded data removed]",
            "text/plain": [
              "<Figure size 432x288 with 1 Axes>"
            ]
          },
          "metadata": {
            "tags": [],
            "needs_background": "light"
          }
        }
      ]
    },
    {
      "cell_type": "code",
      "metadata": {
        "id": "D5j3-HPkO1nd",
        "colab_type": "code",
        "colab": {}
      },
      "source": [
        ""
      ],
      "execution_count": null,
      "outputs": []
    }
  ]
}